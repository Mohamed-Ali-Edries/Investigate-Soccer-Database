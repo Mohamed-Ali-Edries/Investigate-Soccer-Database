{
 "cells": [
  {
   "cell_type": "markdown",
   "metadata": {},
   "source": [
    "# Project: Investigate a Dataset - [Soccer]\n",
    "\n",
    "## Table of Contents\n",
    "<ul>\n",
    "<li><a href=\"#intro\">Introduction</a></li>\n",
    "<li><a href=\"#wrangling\">Data Wrangling</a></li>\n",
    "<li><a href=\"#eda\">Exploratory Data Analysis</a></li>\n",
    "<li><a href=\"#conclusions\">Conclusions</a></li>\n",
    "</ul>"
   ]
  },
  {
   "cell_type": "markdown",
   "metadata": {},
   "source": [
    "<a id='intro'></a>\n",
    "## Introduction\n",
    "\n",
    "### Dataset Description \n",
    "\n",
    "> **Soccer Database**: It contains data for soccer matches, players, and teams from several European countries during the period/seasons from 2008/2009 to 2015/ 2016 located in `Match`, `Player`, `Team`, and `Country` tables respectively.\n",
    "In addition, data describe the number of stages for each season, and the number of the matches for each stage. \n",
    "Also there are tables to describe the characteristics of each player called `Player_Attributes`, and `Team_Attributes` to describe the characteristics of the team during the season as well.\n",
    ". \n",
    "\n",
    "\n",
    "### Question(s) for Analysis\n",
    "1. Is there a relation between the average overall rating and the age of the player over time?\n",
    "2. What teams improved the most over the time period?\n",
    "3. What team attributes lead to the most victories?"
   ]
  },
  {
   "cell_type": "code",
   "execution_count": 1,
   "metadata": {},
   "outputs": [],
   "source": [
    "import os\n",
    "import random\n",
    "import numpy as np\n",
    "import pandas as pd\n",
    "import matplotlib.pyplot as plt\n",
    "import seaborn as sns\n",
    "% matplotlib inline\n",
    "from datetime import datetime, timedelta"
   ]
  },
  {
   "cell_type": "code",
   "execution_count": null,
   "metadata": {},
   "outputs": [],
   "source": [
    "# Upgrade pandas to use dataframe.explode() function. \n",
    "!pip install --upgrade pandas==0.25.0"
   ]
  },
  {
   "cell_type": "markdown",
   "metadata": {},
   "source": [
    "<a id='wrangling'></a>\n",
    "## Data Wrangling\n",
    "\n",
    "> In this section of the report, the data are loaded, checked for cleanliness, trimmed and cleaned for analysis.\n",
    "\n",
    "\n",
    "### Gathering the data "
   ]
  },
  {
   "cell_type": "code",
   "execution_count": 2,
   "metadata": {},
   "outputs": [],
   "source": [
    "# The tables exist inside a folder called 'Database_soccer'\n",
    "folder_name = 'Database_Soccer'\n",
    "def load_table(file_name):\n",
    "    df = pd.read_csv(os.path.join(folder_name, file_name))\n",
    "    return df"
   ]
  },
  {
   "cell_type": "code",
   "execution_count": 3,
   "metadata": {},
   "outputs": [],
   "source": [
    "# Load dataframes\n",
    "df_country = load_table('Country.csv')\n",
    "df_match = load_table('Match.csv')\n",
    "df_player = load_table('Player.csv')\n",
    "df_player_attrs = load_table('Player_Attributes.csv')\n",
    "df_team = load_table('Team.csv')\n",
    "df_team_attrs = load_table('Team_Attributes.csv')"
   ]
  },
  {
   "cell_type": "markdown",
   "metadata": {},
   "source": [
    "A function is to inspect the dataframe: a number of missing and duplicates values, etc."
   ]
  },
  {
   "cell_type": "code",
   "execution_count": 4,
   "metadata": {},
   "outputs": [],
   "source": [
    "def inspect_dataframe(df):\n",
    "    num_duplicates = 0\n",
    "    is_missing_val = False\n",
    "    num_duplicates = df.duplicated().sum()\n",
    "    is_missing_val = df.isnull().sum().any()\n",
    "    num_rows = df.shape[0]\n",
    "    num_cols = df.shape[1]\n",
    "    print(\"Dataframe has {} rows and {} columns with {} duplicates. Is there missing value? {}\\n\".format(num_rows, num_cols,\n",
    "                                                                                                          num_duplicates, is_missing_val))"
   ]
  },
  {
   "cell_type": "markdown",
   "metadata": {},
   "source": [
    "**Inspecting: *Country* dataframe.**"
   ]
  },
  {
   "cell_type": "markdown",
   "metadata": {},
   "source": [
    "> Country dataframe contains (2) columns [id, name], with no missing or duplicated values, and datatypes of columns make sense."
   ]
  },
  {
   "cell_type": "code",
   "execution_count": 5,
   "metadata": {},
   "outputs": [
    {
     "name": "stdout",
     "output_type": "stream",
     "text": [
      "Dataframe has 11 rows and 2 columns with 0 duplicates. Is there missing value? False\n",
      "\n",
      "<class 'pandas.core.frame.DataFrame'>\n",
      "RangeIndex: 11 entries, 0 to 10\n",
      "Data columns (total 2 columns):\n",
      "id      11 non-null int64\n",
      "name    11 non-null object\n",
      "dtypes: int64(1), object(1)\n",
      "memory usage: 256.0+ bytes\n"
     ]
    },
    {
     "data": {
      "text/html": [
       "<div>\n",
       "<style scoped>\n",
       "    .dataframe tbody tr th:only-of-type {\n",
       "        vertical-align: middle;\n",
       "    }\n",
       "\n",
       "    .dataframe tbody tr th {\n",
       "        vertical-align: top;\n",
       "    }\n",
       "\n",
       "    .dataframe thead th {\n",
       "        text-align: right;\n",
       "    }\n",
       "</style>\n",
       "<table border=\"1\" class=\"dataframe\">\n",
       "  <thead>\n",
       "    <tr style=\"text-align: right;\">\n",
       "      <th></th>\n",
       "      <th>id</th>\n",
       "      <th>name</th>\n",
       "    </tr>\n",
       "  </thead>\n",
       "  <tbody>\n",
       "    <tr>\n",
       "      <th>0</th>\n",
       "      <td>1</td>\n",
       "      <td>Belgium</td>\n",
       "    </tr>\n",
       "    <tr>\n",
       "      <th>1</th>\n",
       "      <td>1729</td>\n",
       "      <td>England</td>\n",
       "    </tr>\n",
       "    <tr>\n",
       "      <th>2</th>\n",
       "      <td>4769</td>\n",
       "      <td>France</td>\n",
       "    </tr>\n",
       "    <tr>\n",
       "      <th>3</th>\n",
       "      <td>7809</td>\n",
       "      <td>Germany</td>\n",
       "    </tr>\n",
       "    <tr>\n",
       "      <th>4</th>\n",
       "      <td>10257</td>\n",
       "      <td>Italy</td>\n",
       "    </tr>\n",
       "  </tbody>\n",
       "</table>\n",
       "</div>"
      ],
      "text/plain": [
       "      id     name\n",
       "0      1  Belgium\n",
       "1   1729  England\n",
       "2   4769   France\n",
       "3   7809  Germany\n",
       "4  10257    Italy"
      ]
     },
     "execution_count": 5,
     "metadata": {},
     "output_type": "execute_result"
    }
   ],
   "source": [
    "# Inspect Country dataframe:\n",
    "inspect_dataframe(df_country)\n",
    "df_country.info()\n",
    "df_country.head()"
   ]
  },
  {
   "cell_type": "markdown",
   "metadata": {},
   "source": [
    "**Inspecting: *Player* dataframe.**"
   ]
  },
  {
   "cell_type": "markdown",
   "metadata": {},
   "source": [
    ">Player dataframe contains (7) columns [id, player_api_id,player_name, ..], with no missing or duplicated values.<br> A 'birthday' column datatype should be converted to datetime."
   ]
  },
  {
   "cell_type": "code",
   "execution_count": 6,
   "metadata": {},
   "outputs": [
    {
     "name": "stdout",
     "output_type": "stream",
     "text": [
      "Dataframe has 11060 rows and 7 columns with 0 duplicates. Is there missing value? False\n",
      "\n",
      "<class 'pandas.core.frame.DataFrame'>\n",
      "RangeIndex: 11060 entries, 0 to 11059\n",
      "Data columns (total 7 columns):\n",
      "id                    11060 non-null int64\n",
      "player_api_id         11060 non-null int64\n",
      "player_name           11060 non-null object\n",
      "player_fifa_api_id    11060 non-null int64\n",
      "birthday              11060 non-null object\n",
      "height                11060 non-null float64\n",
      "weight                11060 non-null int64\n",
      "dtypes: float64(1), int64(4), object(2)\n",
      "memory usage: 604.9+ KB\n"
     ]
    },
    {
     "data": {
      "text/html": [
       "<div>\n",
       "<style scoped>\n",
       "    .dataframe tbody tr th:only-of-type {\n",
       "        vertical-align: middle;\n",
       "    }\n",
       "\n",
       "    .dataframe tbody tr th {\n",
       "        vertical-align: top;\n",
       "    }\n",
       "\n",
       "    .dataframe thead th {\n",
       "        text-align: right;\n",
       "    }\n",
       "</style>\n",
       "<table border=\"1\" class=\"dataframe\">\n",
       "  <thead>\n",
       "    <tr style=\"text-align: right;\">\n",
       "      <th></th>\n",
       "      <th>id</th>\n",
       "      <th>player_api_id</th>\n",
       "      <th>player_name</th>\n",
       "      <th>player_fifa_api_id</th>\n",
       "      <th>birthday</th>\n",
       "      <th>height</th>\n",
       "      <th>weight</th>\n",
       "    </tr>\n",
       "  </thead>\n",
       "  <tbody>\n",
       "    <tr>\n",
       "      <th>0</th>\n",
       "      <td>1</td>\n",
       "      <td>505942</td>\n",
       "      <td>Aaron Appindangoye</td>\n",
       "      <td>218353</td>\n",
       "      <td>1992-02-29 00:00:00</td>\n",
       "      <td>182.88</td>\n",
       "      <td>187</td>\n",
       "    </tr>\n",
       "    <tr>\n",
       "      <th>1</th>\n",
       "      <td>2</td>\n",
       "      <td>155782</td>\n",
       "      <td>Aaron Cresswell</td>\n",
       "      <td>189615</td>\n",
       "      <td>1989-12-15 00:00:00</td>\n",
       "      <td>170.18</td>\n",
       "      <td>146</td>\n",
       "    </tr>\n",
       "    <tr>\n",
       "      <th>2</th>\n",
       "      <td>3</td>\n",
       "      <td>162549</td>\n",
       "      <td>Aaron Doran</td>\n",
       "      <td>186170</td>\n",
       "      <td>1991-05-13 00:00:00</td>\n",
       "      <td>170.18</td>\n",
       "      <td>163</td>\n",
       "    </tr>\n",
       "    <tr>\n",
       "      <th>3</th>\n",
       "      <td>4</td>\n",
       "      <td>30572</td>\n",
       "      <td>Aaron Galindo</td>\n",
       "      <td>140161</td>\n",
       "      <td>1982-05-08 00:00:00</td>\n",
       "      <td>182.88</td>\n",
       "      <td>198</td>\n",
       "    </tr>\n",
       "    <tr>\n",
       "      <th>4</th>\n",
       "      <td>5</td>\n",
       "      <td>23780</td>\n",
       "      <td>Aaron Hughes</td>\n",
       "      <td>17725</td>\n",
       "      <td>1979-11-08 00:00:00</td>\n",
       "      <td>182.88</td>\n",
       "      <td>154</td>\n",
       "    </tr>\n",
       "  </tbody>\n",
       "</table>\n",
       "</div>"
      ],
      "text/plain": [
       "   id  player_api_id         player_name  player_fifa_api_id  \\\n",
       "0   1         505942  Aaron Appindangoye              218353   \n",
       "1   2         155782     Aaron Cresswell              189615   \n",
       "2   3         162549         Aaron Doran              186170   \n",
       "3   4          30572       Aaron Galindo              140161   \n",
       "4   5          23780        Aaron Hughes               17725   \n",
       "\n",
       "              birthday  height  weight  \n",
       "0  1992-02-29 00:00:00  182.88     187  \n",
       "1  1989-12-15 00:00:00  170.18     146  \n",
       "2  1991-05-13 00:00:00  170.18     163  \n",
       "3  1982-05-08 00:00:00  182.88     198  \n",
       "4  1979-11-08 00:00:00  182.88     154  "
      ]
     },
     "execution_count": 6,
     "metadata": {},
     "output_type": "execute_result"
    }
   ],
   "source": [
    "# Inspect Player dataframe:\n",
    "inspect_dataframe(df_player)\n",
    "df_player.info()\n",
    "df_player.head()"
   ]
  },
  {
   "cell_type": "markdown",
   "metadata": {},
   "source": [
    "**Inspecting: *Player Attributes* dataframe.**"
   ]
  },
  {
   "cell_type": "markdown",
   "metadata": {},
   "source": [
    "> Player Attributes dataframe contains (42) columns [id, player_api_id,player_name, ..], with no duplicated values.<br>\n",
    "Only (5) columns [id, player_fifa_api_id, player_api_id, date, overall_rating] are used in the data analysis,\n",
    "and the rest of columns are dropped.<br>\n",
    "There are (836) missing values for overall-rating column.<br>\n",
    "Also the data type of date column should be converted to datetime, and overall_rating col. to int datatype."
   ]
  },
  {
   "cell_type": "code",
   "execution_count": 7,
   "metadata": {},
   "outputs": [
    {
     "name": "stdout",
     "output_type": "stream",
     "text": [
      "Dataframe has 183978 rows and 42 columns with 0 duplicates. Is there missing value? True\n",
      "\n",
      "<class 'pandas.core.frame.DataFrame'>\n",
      "RangeIndex: 183978 entries, 0 to 183977\n",
      "Data columns (total 42 columns):\n",
      "id                     183978 non-null int64\n",
      "player_fifa_api_id     183978 non-null int64\n",
      "player_api_id          183978 non-null int64\n",
      "date                   183978 non-null object\n",
      "overall_rating         183142 non-null float64\n",
      "potential              183142 non-null float64\n",
      "preferred_foot         183142 non-null object\n",
      "attacking_work_rate    180748 non-null object\n",
      "defensive_work_rate    183142 non-null object\n",
      "crossing               183142 non-null float64\n",
      "finishing              183142 non-null float64\n",
      "heading_accuracy       183142 non-null float64\n",
      "short_passing          183142 non-null float64\n",
      "volleys                181265 non-null float64\n",
      "dribbling              183142 non-null float64\n",
      "curve                  181265 non-null float64\n",
      "free_kick_accuracy     183142 non-null float64\n",
      "long_passing           183142 non-null float64\n",
      "ball_control           183142 non-null float64\n",
      "acceleration           183142 non-null float64\n",
      "sprint_speed           183142 non-null float64\n",
      "agility                181265 non-null float64\n",
      "reactions              183142 non-null float64\n",
      "balance                181265 non-null float64\n",
      "shot_power             183142 non-null float64\n",
      "jumping                181265 non-null float64\n",
      "stamina                183142 non-null float64\n",
      "strength               183142 non-null float64\n",
      "long_shots             183142 non-null float64\n",
      "aggression             183142 non-null float64\n",
      "interceptions          183142 non-null float64\n",
      "positioning            183142 non-null float64\n",
      "vision                 181265 non-null float64\n",
      "penalties              183142 non-null float64\n",
      "marking                183142 non-null float64\n",
      "standing_tackle        183142 non-null float64\n",
      "sliding_tackle         181265 non-null float64\n",
      "gk_diving              183142 non-null float64\n",
      "gk_handling            183142 non-null float64\n",
      "gk_kicking             183142 non-null float64\n",
      "gk_positioning         183142 non-null float64\n",
      "gk_reflexes            183142 non-null float64\n",
      "dtypes: float64(35), int64(3), object(4)\n",
      "memory usage: 59.0+ MB\n",
      "\n",
      "Number of missing values of overall rating col.:  836\n"
     ]
    }
   ],
   "source": [
    "# Inspect Player Attributes dataframe:\n",
    "inspect_dataframe(df_player_attrs)\n",
    "df_player_attrs.info()\n",
    "print('\\nNumber of missing values of overall rating col.: ',df_player_attrs.overall_rating.isnull().sum())"
   ]
  },
  {
   "cell_type": "markdown",
   "metadata": {},
   "source": [
    "**Inspecting: *Team* dataframe.**"
   ]
  },
  {
   "cell_type": "markdown",
   "metadata": {},
   "source": [
    ">Team dataframe contains (5) columns [id, team_api_id, team_fifa_api_id, team_long_name, team_short_name],\n",
    " with no duplicated values for a whole record, but there are missing values.<br>\n",
    "After more inspecting on the missing values, it is found that:<br>\n",
    "(10) missing values and (3) duplicated values [111560.0, 111429.0, 301.0] for team_fifa_api_id with different team_api_ids."
   ]
  },
  {
   "cell_type": "code",
   "execution_count": 8,
   "metadata": {},
   "outputs": [
    {
     "name": "stdout",
     "output_type": "stream",
     "text": [
      "Dataframe has 299 rows and 5 columns with 0 duplicates. Is there missing value? True\n",
      "\n",
      "<class 'pandas.core.frame.DataFrame'>\n",
      "RangeIndex: 299 entries, 0 to 298\n",
      "Data columns (total 5 columns):\n",
      "id                  299 non-null int64\n",
      "team_api_id         299 non-null int64\n",
      "team_fifa_api_id    288 non-null float64\n",
      "team_long_name      299 non-null object\n",
      "team_short_name     299 non-null object\n",
      "dtypes: float64(1), int64(2), object(2)\n",
      "memory usage: 11.8+ KB\n"
     ]
    },
    {
     "data": {
      "text/html": [
       "<div>\n",
       "<style scoped>\n",
       "    .dataframe tbody tr th:only-of-type {\n",
       "        vertical-align: middle;\n",
       "    }\n",
       "\n",
       "    .dataframe tbody tr th {\n",
       "        vertical-align: top;\n",
       "    }\n",
       "\n",
       "    .dataframe thead th {\n",
       "        text-align: right;\n",
       "    }\n",
       "</style>\n",
       "<table border=\"1\" class=\"dataframe\">\n",
       "  <thead>\n",
       "    <tr style=\"text-align: right;\">\n",
       "      <th></th>\n",
       "      <th>id</th>\n",
       "      <th>team_api_id</th>\n",
       "      <th>team_fifa_api_id</th>\n",
       "      <th>team_long_name</th>\n",
       "      <th>team_short_name</th>\n",
       "    </tr>\n",
       "  </thead>\n",
       "  <tbody>\n",
       "    <tr>\n",
       "      <th>14</th>\n",
       "      <td>15</td>\n",
       "      <td>4049</td>\n",
       "      <td>NaN</td>\n",
       "      <td>Tubize</td>\n",
       "      <td>TUB</td>\n",
       "    </tr>\n",
       "    <tr>\n",
       "      <th>24</th>\n",
       "      <td>2510</td>\n",
       "      <td>274581</td>\n",
       "      <td>111560.0</td>\n",
       "      <td>Royal Excel Mouscron</td>\n",
       "      <td>MOP</td>\n",
       "    </tr>\n",
       "    <tr>\n",
       "      <th>170</th>\n",
       "      <td>26561</td>\n",
       "      <td>6601</td>\n",
       "      <td>NaN</td>\n",
       "      <td>FC Volendam</td>\n",
       "      <td>VOL</td>\n",
       "    </tr>\n",
       "    <tr>\n",
       "      <th>183</th>\n",
       "      <td>31445</td>\n",
       "      <td>8020</td>\n",
       "      <td>111429.0</td>\n",
       "      <td>Polonia Bytom</td>\n",
       "      <td>GOR</td>\n",
       "    </tr>\n",
       "    <tr>\n",
       "      <th>199</th>\n",
       "      <td>32409</td>\n",
       "      <td>8024</td>\n",
       "      <td>301.0</td>\n",
       "      <td>Widzew Łódź</td>\n",
       "      <td>WID</td>\n",
       "    </tr>\n",
       "    <tr>\n",
       "      <th>204</th>\n",
       "      <td>34816</td>\n",
       "      <td>177361</td>\n",
       "      <td>NaN</td>\n",
       "      <td>Termalica Bruk-Bet Nieciecza</td>\n",
       "      <td>TBN</td>\n",
       "    </tr>\n",
       "    <tr>\n",
       "      <th>208</th>\n",
       "      <td>35286</td>\n",
       "      <td>7992</td>\n",
       "      <td>NaN</td>\n",
       "      <td>Trofense</td>\n",
       "      <td>TRO</td>\n",
       "    </tr>\n",
       "    <tr>\n",
       "      <th>213</th>\n",
       "      <td>35291</td>\n",
       "      <td>10213</td>\n",
       "      <td>NaN</td>\n",
       "      <td>Amadora</td>\n",
       "      <td>AMA</td>\n",
       "    </tr>\n",
       "    <tr>\n",
       "      <th>223</th>\n",
       "      <td>36248</td>\n",
       "      <td>9765</td>\n",
       "      <td>NaN</td>\n",
       "      <td>Portimonense</td>\n",
       "      <td>POR</td>\n",
       "    </tr>\n",
       "    <tr>\n",
       "      <th>225</th>\n",
       "      <td>36723</td>\n",
       "      <td>4064</td>\n",
       "      <td>NaN</td>\n",
       "      <td>Feirense</td>\n",
       "      <td>FEI</td>\n",
       "    </tr>\n",
       "    <tr>\n",
       "      <th>232</th>\n",
       "      <td>38789</td>\n",
       "      <td>6367</td>\n",
       "      <td>NaN</td>\n",
       "      <td>Uniao da Madeira</td>\n",
       "      <td>MAD</td>\n",
       "    </tr>\n",
       "    <tr>\n",
       "      <th>233</th>\n",
       "      <td>38791</td>\n",
       "      <td>188163</td>\n",
       "      <td>NaN</td>\n",
       "      <td>Tondela</td>\n",
       "      <td>TON</td>\n",
       "    </tr>\n",
       "    <tr>\n",
       "      <th>298</th>\n",
       "      <td>51606</td>\n",
       "      <td>7896</td>\n",
       "      <td>NaN</td>\n",
       "      <td>Lugano</td>\n",
       "      <td>LUG</td>\n",
       "    </tr>\n",
       "  </tbody>\n",
       "</table>\n",
       "</div>"
      ],
      "text/plain": [
       "        id  team_api_id  team_fifa_api_id                team_long_name  \\\n",
       "14      15         4049               NaN                        Tubize   \n",
       "24    2510       274581          111560.0          Royal Excel Mouscron   \n",
       "170  26561         6601               NaN                   FC Volendam   \n",
       "183  31445         8020          111429.0                 Polonia Bytom   \n",
       "199  32409         8024             301.0                   Widzew Łódź   \n",
       "204  34816       177361               NaN  Termalica Bruk-Bet Nieciecza   \n",
       "208  35286         7992               NaN                      Trofense   \n",
       "213  35291        10213               NaN                       Amadora   \n",
       "223  36248         9765               NaN                  Portimonense   \n",
       "225  36723         4064               NaN                      Feirense   \n",
       "232  38789         6367               NaN              Uniao da Madeira   \n",
       "233  38791       188163               NaN                       Tondela   \n",
       "298  51606         7896               NaN                        Lugano   \n",
       "\n",
       "    team_short_name  \n",
       "14              TUB  \n",
       "24              MOP  \n",
       "170             VOL  \n",
       "183             GOR  \n",
       "199             WID  \n",
       "204             TBN  \n",
       "208             TRO  \n",
       "213             AMA  \n",
       "223             POR  \n",
       "225             FEI  \n",
       "232             MAD  \n",
       "233             TON  \n",
       "298             LUG  "
      ]
     },
     "execution_count": 8,
     "metadata": {},
     "output_type": "execute_result"
    }
   ],
   "source": [
    "# Inspect Team dataframe:\n",
    "inspect_dataframe(df_team)\n",
    "df_team.info()\n",
    "team_duplicates = df_team[df_team['team_fifa_api_id'].duplicated()]\n",
    "team_duplicates"
   ]
  },
  {
   "cell_type": "markdown",
   "metadata": {},
   "source": [
    ">The (3) duplicated values [111560.0, 111429.0, 301.0] for team_fifa_api_id with different team_api_ids."
   ]
  },
  {
   "cell_type": "code",
   "execution_count": 9,
   "metadata": {},
   "outputs": [
    {
     "data": {
      "text/html": [
       "<div>\n",
       "<style scoped>\n",
       "    .dataframe tbody tr th:only-of-type {\n",
       "        vertical-align: middle;\n",
       "    }\n",
       "\n",
       "    .dataframe tbody tr th {\n",
       "        vertical-align: top;\n",
       "    }\n",
       "\n",
       "    .dataframe thead th {\n",
       "        text-align: right;\n",
       "    }\n",
       "</style>\n",
       "<table border=\"1\" class=\"dataframe\">\n",
       "  <thead>\n",
       "    <tr style=\"text-align: right;\">\n",
       "      <th></th>\n",
       "      <th>id</th>\n",
       "      <th>team_api_id</th>\n",
       "      <th>team_fifa_api_id</th>\n",
       "      <th>team_long_name</th>\n",
       "      <th>team_short_name</th>\n",
       "    </tr>\n",
       "  </thead>\n",
       "  <tbody>\n",
       "    <tr>\n",
       "      <th>15</th>\n",
       "      <td>16</td>\n",
       "      <td>9996</td>\n",
       "      <td>111560.0</td>\n",
       "      <td>Royal Excel Mouscron</td>\n",
       "      <td>MOU</td>\n",
       "    </tr>\n",
       "    <tr>\n",
       "      <th>24</th>\n",
       "      <td>2510</td>\n",
       "      <td>274581</td>\n",
       "      <td>111560.0</td>\n",
       "      <td>Royal Excel Mouscron</td>\n",
       "      <td>MOP</td>\n",
       "    </tr>\n",
       "    <tr>\n",
       "      <th>182</th>\n",
       "      <td>31444</td>\n",
       "      <td>8031</td>\n",
       "      <td>111429.0</td>\n",
       "      <td>Polonia Bytom</td>\n",
       "      <td>POB</td>\n",
       "    </tr>\n",
       "    <tr>\n",
       "      <th>183</th>\n",
       "      <td>31445</td>\n",
       "      <td>8020</td>\n",
       "      <td>111429.0</td>\n",
       "      <td>Polonia Bytom</td>\n",
       "      <td>GOR</td>\n",
       "    </tr>\n",
       "    <tr>\n",
       "      <th>189</th>\n",
       "      <td>31451</td>\n",
       "      <td>8244</td>\n",
       "      <td>301.0</td>\n",
       "      <td>Widzew Łódź</td>\n",
       "      <td>LOD</td>\n",
       "    </tr>\n",
       "    <tr>\n",
       "      <th>199</th>\n",
       "      <td>32409</td>\n",
       "      <td>8024</td>\n",
       "      <td>301.0</td>\n",
       "      <td>Widzew Łódź</td>\n",
       "      <td>WID</td>\n",
       "    </tr>\n",
       "  </tbody>\n",
       "</table>\n",
       "</div>"
      ],
      "text/plain": [
       "        id  team_api_id  team_fifa_api_id        team_long_name  \\\n",
       "15      16         9996          111560.0  Royal Excel Mouscron   \n",
       "24    2510       274581          111560.0  Royal Excel Mouscron   \n",
       "182  31444         8031          111429.0         Polonia Bytom   \n",
       "183  31445         8020          111429.0         Polonia Bytom   \n",
       "189  31451         8244             301.0           Widzew Łódź   \n",
       "199  32409         8024             301.0           Widzew Łódź   \n",
       "\n",
       "    team_short_name  \n",
       "15              MOU  \n",
       "24              MOP  \n",
       "182             POB  \n",
       "183             GOR  \n",
       "189             LOD  \n",
       "199             WID  "
      ]
     },
     "execution_count": 9,
     "metadata": {},
     "output_type": "execute_result"
    }
   ],
   "source": [
    "# Inspect Team dataframe (cont.):\n",
    "df_team.query('team_fifa_api_id in [111560.0, 111429.0, 301.0]')"
   ]
  },
  {
   "cell_type": "markdown",
   "metadata": {},
   "source": [
    "**Inspecting: *Team Attributes* dataframe.**"
   ]
  },
  {
   "cell_type": "markdown",
   "metadata": {},
   "source": [
    ">Team Attributes dataframe contains (25) columns, with no duplicated values, but there are (969) missing values.<br>\n",
    "\n",
    ">Because of a huge amount of missing values of a column 'buildUpPlayDribbling', and as an attempt to decrease\n",
    "the number of the missing values:<br>\n",
    "the missing values will be replaced by the `mean` value of each team. then dropping the rest missing values.<br>\n",
    "\n",
    ">Also the datatype of a column 'buildUpPlayDribbling' will be converted from float to int, and a datatype of the column\n",
    "date will be converted to datetime.\n"
   ]
  },
  {
   "cell_type": "code",
   "execution_count": 10,
   "metadata": {},
   "outputs": [
    {
     "name": "stdout",
     "output_type": "stream",
     "text": [
      "Dataframe has 1458 rows and 25 columns with 0 duplicates. Is there missing value? True\n",
      "\n",
      "<class 'pandas.core.frame.DataFrame'>\n",
      "RangeIndex: 1458 entries, 0 to 1457\n",
      "Data columns (total 25 columns):\n",
      "id                                1458 non-null int64\n",
      "team_fifa_api_id                  1458 non-null int64\n",
      "team_api_id                       1458 non-null int64\n",
      "date                              1458 non-null object\n",
      "buildUpPlaySpeed                  1458 non-null int64\n",
      "buildUpPlaySpeedClass             1458 non-null object\n",
      "buildUpPlayDribbling              489 non-null float64\n",
      "buildUpPlayDribblingClass         1458 non-null object\n",
      "buildUpPlayPassing                1458 non-null int64\n",
      "buildUpPlayPassingClass           1458 non-null object\n",
      "buildUpPlayPositioningClass       1458 non-null object\n",
      "chanceCreationPassing             1458 non-null int64\n",
      "chanceCreationPassingClass        1458 non-null object\n",
      "chanceCreationCrossing            1458 non-null int64\n",
      "chanceCreationCrossingClass       1458 non-null object\n",
      "chanceCreationShooting            1458 non-null int64\n",
      "chanceCreationShootingClass       1458 non-null object\n",
      "chanceCreationPositioningClass    1458 non-null object\n",
      "defencePressure                   1458 non-null int64\n",
      "defencePressureClass              1458 non-null object\n",
      "defenceAggression                 1458 non-null int64\n",
      "defenceAggressionClass            1458 non-null object\n",
      "defenceTeamWidth                  1458 non-null int64\n",
      "defenceTeamWidthClass             1458 non-null object\n",
      "defenceDefenderLineClass          1458 non-null object\n",
      "dtypes: float64(1), int64(11), object(13)\n",
      "memory usage: 284.8+ KB\n",
      "\n",
      "Number of missing values of buildUpPlayDribbling col.:  969\n"
     ]
    }
   ],
   "source": [
    "# Inspect Team Attributes dataframe:\n",
    "inspect_dataframe(df_team_attrs)\n",
    "df_team_attrs.info()\n",
    "print('\\nNumber of missing values of buildUpPlayDribbling col.: ',df_team_attrs.buildUpPlayDribbling.isnull().sum())"
   ]
  },
  {
   "cell_type": "markdown",
   "metadata": {},
   "source": [
    ">Because of the relation between Team and Team_Attributes dataframes:<br>\n",
    "The (3) duplicated values [111560.0, 111429.0, 301.0] of [team_fifa_api_id] column inside `Team` dataframe (mentioned above)\n",
    "will be checked on the correct values inside `Team Attributes` dataframe before dropping the duplicates.\n",
    "\n",
    ">After a Query, still there are duplicated team_fifa_api_id values with different two values team_api_id.<br>\n",
    "So the data analysis will depend on team_api_id and the column team_fifa_api_id will be removed\n",
    "from all tables: `Team`, `Team Attributes`, and `Player Attributes` dataframes."
   ]
  },
  {
   "cell_type": "code",
   "execution_count": 11,
   "metadata": {},
   "outputs": [
    {
     "data": {
      "text/plain": [
       "team_fifa_api_id  team_api_id\n",
       "301               8024           4\n",
       "                  8244           4\n",
       "111429            8020           2\n",
       "                  8031           2\n",
       "111560            9996           2\n",
       "                  274581         1\n",
       "dtype: int64"
      ]
     },
     "execution_count": 11,
     "metadata": {},
     "output_type": "execute_result"
    }
   ],
   "source": [
    "# A query about the duplicated values.\n",
    "df_team_attrs.query('team_fifa_api_id in [111560.0, 111429.0, 301.0]').groupby(\n",
    "    ['team_fifa_api_id', 'team_api_id']).size()"
   ]
  },
  {
   "cell_type": "markdown",
   "metadata": {},
   "source": [
    "**Inspecting: *Match* dataframe.**"
   ]
  },
  {
   "cell_type": "markdown",
   "metadata": {},
   "source": [
    ">Match dataframe contains (115) columns, with no duplicated values, but there are (969) missing values.<br>\n",
    "Only columns [country_id, season, stage, date, match_api_id, home_team_api_id,away_team_api_id, home_team_goal,\n",
    "away_team_goal] will be used in the data analysis phase.<br>\n",
    "The datatype of date column will be converted to datetime."
   ]
  },
  {
   "cell_type": "code",
   "execution_count": 12,
   "metadata": {},
   "outputs": [
    {
     "name": "stdout",
     "output_type": "stream",
     "text": [
      "Dataframe has 25979 rows and 115 columns with 0 duplicates. Is there missing value? True\n",
      "\n",
      "<class 'pandas.core.frame.DataFrame'>\n",
      "RangeIndex: 25979 entries, 0 to 25978\n",
      "Columns: 115 entries, id to BSA\n",
      "dtypes: float64(96), int64(9), object(10)\n",
      "memory usage: 22.8+ MB\n"
     ]
    },
    {
     "data": {
      "text/html": [
       "<div>\n",
       "<style scoped>\n",
       "    .dataframe tbody tr th:only-of-type {\n",
       "        vertical-align: middle;\n",
       "    }\n",
       "\n",
       "    .dataframe tbody tr th {\n",
       "        vertical-align: top;\n",
       "    }\n",
       "\n",
       "    .dataframe thead th {\n",
       "        text-align: right;\n",
       "    }\n",
       "</style>\n",
       "<table border=\"1\" class=\"dataframe\">\n",
       "  <thead>\n",
       "    <tr style=\"text-align: right;\">\n",
       "      <th></th>\n",
       "      <th>id</th>\n",
       "      <th>country_id</th>\n",
       "      <th>league_id</th>\n",
       "      <th>season</th>\n",
       "      <th>stage</th>\n",
       "      <th>date</th>\n",
       "      <th>match_api_id</th>\n",
       "      <th>home_team_api_id</th>\n",
       "      <th>away_team_api_id</th>\n",
       "      <th>home_team_goal</th>\n",
       "      <th>...</th>\n",
       "      <th>SJA</th>\n",
       "      <th>VCH</th>\n",
       "      <th>VCD</th>\n",
       "      <th>VCA</th>\n",
       "      <th>GBH</th>\n",
       "      <th>GBD</th>\n",
       "      <th>GBA</th>\n",
       "      <th>BSH</th>\n",
       "      <th>BSD</th>\n",
       "      <th>BSA</th>\n",
       "    </tr>\n",
       "  </thead>\n",
       "  <tbody>\n",
       "    <tr>\n",
       "      <th>0</th>\n",
       "      <td>1</td>\n",
       "      <td>1</td>\n",
       "      <td>1</td>\n",
       "      <td>2008/2009</td>\n",
       "      <td>1</td>\n",
       "      <td>2008-08-17 00:00:00</td>\n",
       "      <td>492473</td>\n",
       "      <td>9987</td>\n",
       "      <td>9993</td>\n",
       "      <td>1</td>\n",
       "      <td>...</td>\n",
       "      <td>4.00</td>\n",
       "      <td>1.65</td>\n",
       "      <td>3.40</td>\n",
       "      <td>4.50</td>\n",
       "      <td>1.78</td>\n",
       "      <td>3.25</td>\n",
       "      <td>4.00</td>\n",
       "      <td>1.73</td>\n",
       "      <td>3.40</td>\n",
       "      <td>4.20</td>\n",
       "    </tr>\n",
       "    <tr>\n",
       "      <th>1</th>\n",
       "      <td>2</td>\n",
       "      <td>1</td>\n",
       "      <td>1</td>\n",
       "      <td>2008/2009</td>\n",
       "      <td>1</td>\n",
       "      <td>2008-08-16 00:00:00</td>\n",
       "      <td>492474</td>\n",
       "      <td>10000</td>\n",
       "      <td>9994</td>\n",
       "      <td>0</td>\n",
       "      <td>...</td>\n",
       "      <td>3.80</td>\n",
       "      <td>2.00</td>\n",
       "      <td>3.25</td>\n",
       "      <td>3.25</td>\n",
       "      <td>1.85</td>\n",
       "      <td>3.25</td>\n",
       "      <td>3.75</td>\n",
       "      <td>1.91</td>\n",
       "      <td>3.25</td>\n",
       "      <td>3.60</td>\n",
       "    </tr>\n",
       "    <tr>\n",
       "      <th>2</th>\n",
       "      <td>3</td>\n",
       "      <td>1</td>\n",
       "      <td>1</td>\n",
       "      <td>2008/2009</td>\n",
       "      <td>1</td>\n",
       "      <td>2008-08-16 00:00:00</td>\n",
       "      <td>492475</td>\n",
       "      <td>9984</td>\n",
       "      <td>8635</td>\n",
       "      <td>0</td>\n",
       "      <td>...</td>\n",
       "      <td>2.50</td>\n",
       "      <td>2.35</td>\n",
       "      <td>3.25</td>\n",
       "      <td>2.65</td>\n",
       "      <td>2.50</td>\n",
       "      <td>3.20</td>\n",
       "      <td>2.50</td>\n",
       "      <td>2.30</td>\n",
       "      <td>3.20</td>\n",
       "      <td>2.75</td>\n",
       "    </tr>\n",
       "    <tr>\n",
       "      <th>3</th>\n",
       "      <td>4</td>\n",
       "      <td>1</td>\n",
       "      <td>1</td>\n",
       "      <td>2008/2009</td>\n",
       "      <td>1</td>\n",
       "      <td>2008-08-17 00:00:00</td>\n",
       "      <td>492476</td>\n",
       "      <td>9991</td>\n",
       "      <td>9998</td>\n",
       "      <td>5</td>\n",
       "      <td>...</td>\n",
       "      <td>7.50</td>\n",
       "      <td>1.45</td>\n",
       "      <td>3.75</td>\n",
       "      <td>6.50</td>\n",
       "      <td>1.50</td>\n",
       "      <td>3.75</td>\n",
       "      <td>5.50</td>\n",
       "      <td>1.44</td>\n",
       "      <td>3.75</td>\n",
       "      <td>6.50</td>\n",
       "    </tr>\n",
       "    <tr>\n",
       "      <th>4</th>\n",
       "      <td>5</td>\n",
       "      <td>1</td>\n",
       "      <td>1</td>\n",
       "      <td>2008/2009</td>\n",
       "      <td>1</td>\n",
       "      <td>2008-08-16 00:00:00</td>\n",
       "      <td>492477</td>\n",
       "      <td>7947</td>\n",
       "      <td>9985</td>\n",
       "      <td>1</td>\n",
       "      <td>...</td>\n",
       "      <td>1.73</td>\n",
       "      <td>4.50</td>\n",
       "      <td>3.40</td>\n",
       "      <td>1.65</td>\n",
       "      <td>4.50</td>\n",
       "      <td>3.50</td>\n",
       "      <td>1.65</td>\n",
       "      <td>4.75</td>\n",
       "      <td>3.30</td>\n",
       "      <td>1.67</td>\n",
       "    </tr>\n",
       "  </tbody>\n",
       "</table>\n",
       "<p>5 rows × 115 columns</p>\n",
       "</div>"
      ],
      "text/plain": [
       "   id  country_id  league_id     season  stage                 date  \\\n",
       "0   1           1          1  2008/2009      1  2008-08-17 00:00:00   \n",
       "1   2           1          1  2008/2009      1  2008-08-16 00:00:00   \n",
       "2   3           1          1  2008/2009      1  2008-08-16 00:00:00   \n",
       "3   4           1          1  2008/2009      1  2008-08-17 00:00:00   \n",
       "4   5           1          1  2008/2009      1  2008-08-16 00:00:00   \n",
       "\n",
       "   match_api_id  home_team_api_id  away_team_api_id  home_team_goal  ...   \\\n",
       "0        492473              9987              9993               1  ...    \n",
       "1        492474             10000              9994               0  ...    \n",
       "2        492475              9984              8635               0  ...    \n",
       "3        492476              9991              9998               5  ...    \n",
       "4        492477              7947              9985               1  ...    \n",
       "\n",
       "    SJA   VCH   VCD   VCA   GBH   GBD   GBA   BSH   BSD   BSA  \n",
       "0  4.00  1.65  3.40  4.50  1.78  3.25  4.00  1.73  3.40  4.20  \n",
       "1  3.80  2.00  3.25  3.25  1.85  3.25  3.75  1.91  3.25  3.60  \n",
       "2  2.50  2.35  3.25  2.65  2.50  3.20  2.50  2.30  3.20  2.75  \n",
       "3  7.50  1.45  3.75  6.50  1.50  3.75  5.50  1.44  3.75  6.50  \n",
       "4  1.73  4.50  3.40  1.65  4.50  3.50  1.65  4.75  3.30  1.67  \n",
       "\n",
       "[5 rows x 115 columns]"
      ]
     },
     "execution_count": 12,
     "metadata": {},
     "output_type": "execute_result"
    }
   ],
   "source": [
    "# Inspect Match dataframe:\n",
    "inspect_dataframe(df_match)\n",
    "df_match.info()\n",
    "df_match.head()"
   ]
  },
  {
   "cell_type": "markdown",
   "metadata": {},
   "source": [
    "## Data Cleaning\n",
    "Cleaning each dataframe according to what mentioned above.\n",
    ">  Also remove **`id`** column from each dataframe which only refers to the serial row number and check again about duplicates.\n"
   ]
  },
  {
   "cell_type": "code",
   "execution_count": 13,
   "metadata": {},
   "outputs": [],
   "source": [
    "# A function to drop columns from a dataframe.\n",
    "def drop_columns(df, cols):\n",
    "    df = df.drop(columns = cols)\n",
    "    return df"
   ]
  },
  {
   "cell_type": "code",
   "execution_count": 14,
   "metadata": {},
   "outputs": [],
   "source": [
    "# Afunction to remove the rows have missing values\n",
    "def remove_missing(df, missing_col):\n",
    "    missing_rows = (df[missing_col].isnull() == True)\n",
    "    df.drop(df[missing_rows].index, inplace=True)\n",
    "    return df"
   ]
  },
  {
   "cell_type": "code",
   "execution_count": 15,
   "metadata": {},
   "outputs": [],
   "source": [
    "# A function to fill the missing values of a specific column in an average value for selected items.\n",
    "def fill_missing_values(df, name_null_col, name_selected_col, num_null_col, num_selected_col):\n",
    "    list_means = {}\n",
    "    null_items = df[df[name_null_col].isnull() ==True]\n",
    "    for id in null_items[name_selected_col]:\n",
    "        mean = df.query('{} == {}'.format(name_selected_col,id))[name_null_col].mean()\n",
    "        list_means[id] = mean\n",
    "\n",
    "\n",
    "    null_items = null_items.reset_index()\n",
    "    for i in np.arange(0, len(null_items.index)):\n",
    "            null_items.iloc[i, num_null_col + 1] = list_means[null_items.iloc[i, num_selected_col + 1]]\n",
    "\n",
    "    df.drop(null_items['index'], inplace=True)\n",
    "    null_items = drop_columns(null_items, ['index'])\n",
    "    df = df.append(null_items, sort=False, ignore_index=True)\n",
    "    \n",
    "    return df"
   ]
  },
  {
   "cell_type": "markdown",
   "metadata": {},
   "source": [
    "**Cleaning: *Player* dataframe.**"
   ]
  },
  {
   "cell_type": "code",
   "execution_count": 16,
   "metadata": {},
   "outputs": [],
   "source": [
    "# Convert datatype of 'birthday' column to datetime datatype.\n",
    "df_player['birthday'] = pd.to_datetime(df_player['birthday'])"
   ]
  },
  {
   "cell_type": "code",
   "execution_count": 17,
   "metadata": {},
   "outputs": [],
   "source": [
    "# Remove id column and check about duplicates again\n",
    "df_player = drop_columns(df_player, ['id', 'player_fifa_api_id'])"
   ]
  },
  {
   "cell_type": "code",
   "execution_count": 18,
   "metadata": {},
   "outputs": [
    {
     "name": "stdout",
     "output_type": "stream",
     "text": [
      "Dataframe has 11060 rows and 5 columns with 0 duplicates. Is there missing value? False\n",
      "\n",
      "<class 'pandas.core.frame.DataFrame'>\n",
      "RangeIndex: 11060 entries, 0 to 11059\n",
      "Data columns (total 5 columns):\n",
      "player_api_id    11060 non-null int64\n",
      "player_name      11060 non-null object\n",
      "birthday         11060 non-null datetime64[ns]\n",
      "height           11060 non-null float64\n",
      "weight           11060 non-null int64\n",
      "dtypes: datetime64[ns](1), float64(1), int64(2), object(1)\n",
      "memory usage: 432.1+ KB\n"
     ]
    }
   ],
   "source": [
    "# Cleaned Player dataframe\n",
    "inspect_dataframe(df_player)\n",
    "df_player.info()"
   ]
  },
  {
   "cell_type": "markdown",
   "metadata": {},
   "source": [
    "**Cleaning: *Player Attributes* dataframe.**"
   ]
  },
  {
   "cell_type": "code",
   "execution_count": 19,
   "metadata": {},
   "outputs": [],
   "source": [
    "# Drop undesired columns\n",
    "cols = []\n",
    "for col in df_player_attrs.columns:\n",
    "    if col not in ['player_api_id', 'date', 'overall_rating']:\n",
    "        cols.append(col)\n",
    "df_player_attrs = drop_columns(df_player_attrs, cols)"
   ]
  },
  {
   "cell_type": "code",
   "execution_count": 20,
   "metadata": {},
   "outputs": [],
   "source": [
    "# Convert date column to datetime datatype\n",
    "df_player_attrs['date'] = pd.to_datetime(df_player_attrs['date'])"
   ]
  },
  {
   "cell_type": "code",
   "execution_count": 21,
   "metadata": {},
   "outputs": [],
   "source": [
    "# Fill null values of overall_rating in the mean of each player_api_id, location of col has a null value\n",
    "# and the location of helping col. \n",
    "num_null_col = df_player_attrs.columns.get_loc('overall_rating')\n",
    "num_selected_col = df_player_attrs.columns.get_loc('player_api_id')\n",
    "df_player_attrs = fill_missing_values(df_player_attrs, 'overall_rating', 'player_api_id', num_null_col, num_selected_col)"
   ]
  },
  {
   "cell_type": "code",
   "execution_count": 22,
   "metadata": {},
   "outputs": [],
   "source": [
    "# Convert the datetype of 'overall_rating' column to int\n",
    "df_player_attrs['overall_rating'] = df_player_attrs.overall_rating.astype(int)"
   ]
  },
  {
   "cell_type": "code",
   "execution_count": 23,
   "metadata": {},
   "outputs": [
    {
     "name": "stdout",
     "output_type": "stream",
     "text": [
      "Dataframe has 183978 rows and 3 columns with 55 duplicates. Is there missing value? False\n",
      "\n"
     ]
    }
   ],
   "source": [
    "# inspect again after remove the id column from the dataframe.\n",
    "inspect_dataframe(df_player_attrs)"
   ]
  },
  {
   "cell_type": "code",
   "execution_count": 24,
   "metadata": {},
   "outputs": [],
   "source": [
    "# Remove the duplicates.\n",
    "df_player_attrs.drop_duplicates(inplace = True)"
   ]
  },
  {
   "cell_type": "code",
   "execution_count": 25,
   "metadata": {},
   "outputs": [
    {
     "name": "stdout",
     "output_type": "stream",
     "text": [
      "Dataframe has 183923 rows and 3 columns with 0 duplicates. Is there missing value? False\n",
      "\n",
      "<class 'pandas.core.frame.DataFrame'>\n",
      "Int64Index: 183923 entries, 0 to 183977\n",
      "Data columns (total 3 columns):\n",
      "player_api_id     183923 non-null int64\n",
      "date              183923 non-null datetime64[ns]\n",
      "overall_rating    183923 non-null int64\n",
      "dtypes: datetime64[ns](1), int64(2)\n",
      "memory usage: 5.6 MB\n"
     ]
    }
   ],
   "source": [
    "# Cleaned Player_Attributes dataframe\n",
    "inspect_dataframe(df_player_attrs)\n",
    "df_player_attrs.info()"
   ]
  },
  {
   "cell_type": "markdown",
   "metadata": {},
   "source": [
    "**Cleaning: *Team* dataframe.**"
   ]
  },
  {
   "cell_type": "code",
   "execution_count": 26,
   "metadata": {},
   "outputs": [
    {
     "name": "stdout",
     "output_type": "stream",
     "text": [
      "Dataframe has 299 rows and 3 columns with 0 duplicates. Is there missing value? False\n",
      "\n",
      "<class 'pandas.core.frame.DataFrame'>\n",
      "RangeIndex: 299 entries, 0 to 298\n",
      "Data columns (total 3 columns):\n",
      "team_api_id        299 non-null int64\n",
      "team_long_name     299 non-null object\n",
      "team_short_name    299 non-null object\n",
      "dtypes: int64(1), object(2)\n",
      "memory usage: 7.1+ KB\n"
     ]
    }
   ],
   "source": [
    "# Drop undesired columns and inspect again on duplicated values.\n",
    "df_team = drop_columns(df_team, ['id', 'team_fifa_api_id'])\n",
    "inspect_dataframe(df_team)\n",
    "df_team.info()"
   ]
  },
  {
   "cell_type": "markdown",
   "metadata": {},
   "source": [
    "**Cleaning: *Team Attributes* dataframe.**"
   ]
  },
  {
   "cell_type": "code",
   "execution_count": 27,
   "metadata": {},
   "outputs": [
    {
     "name": "stdout",
     "output_type": "stream",
     "text": [
      "Dataframe has 1458 rows and 23 columns with 1 duplicates. Is there missing value? True\n",
      "\n"
     ]
    }
   ],
   "source": [
    "# Drop undesired columns and inspect again on duplicated values.\n",
    "df_team_attrs = drop_columns(df_team_attrs, ['id', 'team_fifa_api_id'])\n",
    "inspect_dataframe(df_team_attrs)"
   ]
  },
  {
   "cell_type": "code",
   "execution_count": 28,
   "metadata": {},
   "outputs": [],
   "source": [
    "# Convert the datetype of 'date' column to datetime\n",
    "df_team_attrs['date'] = pd.to_datetime(df_team_attrs['date'])"
   ]
  },
  {
   "cell_type": "code",
   "execution_count": 29,
   "metadata": {},
   "outputs": [],
   "source": [
    "# Fill null values of buildUpPlayDribbling in the mean of each team_api_id\n",
    "num_null_col = df_team_attrs.columns.get_loc('buildUpPlayDribbling')\n",
    "num_selected_col = df_team_attrs.columns.get_loc('team_api_id')\n",
    "df_team_attrs = fill_missing_values(df_team_attrs, 'buildUpPlayDribbling', 'team_api_id', num_null_col, num_selected_col)"
   ]
  },
  {
   "cell_type": "code",
   "execution_count": 30,
   "metadata": {},
   "outputs": [
    {
     "name": "stdout",
     "output_type": "stream",
     "text": [
      "Dataframe has 1457 rows and 23 columns with 0 duplicates. Is there missing value? True\n",
      "\n"
     ]
    }
   ],
   "source": [
    "# Remove duplicates and inspect again\n",
    "df_team_attrs = df_team_attrs.drop_duplicates()\n",
    "inspect_dataframe(df_team_attrs)"
   ]
  },
  {
   "cell_type": "code",
   "execution_count": 31,
   "metadata": {},
   "outputs": [
    {
     "name": "stdout",
     "output_type": "stream",
     "text": [
      "Dataframe has 1457 rows and 23 columns with 0 duplicates. Is there missing value? True\n",
      "\n",
      "Number of missing values of buildUpPlayDribbling col.:  62\n"
     ]
    }
   ],
   "source": [
    "# Inspect again on missing values: the number of missing values (62) is less than the previous value(969)\n",
    "inspect_dataframe(df_team_attrs)\n",
    "print('Number of missing values of buildUpPlayDribbling col.: ',df_team_attrs.buildUpPlayDribbling.isnull().sum())"
   ]
  },
  {
   "cell_type": "code",
   "execution_count": 32,
   "metadata": {},
   "outputs": [],
   "source": [
    "# Remove the missing values of 'buildUpPlayDribbling' before converting the datatype\n",
    "df_team_attrs = remove_missing(df_team_attrs, 'buildUpPlayDribbling')"
   ]
  },
  {
   "cell_type": "code",
   "execution_count": 33,
   "metadata": {},
   "outputs": [],
   "source": [
    "# Convert the datetype of 'buildUpPlayDribbling' column to int\n",
    "df_team_attrs['buildUpPlayDribbling'] = df_team_attrs.buildUpPlayDribbling.astype(int)"
   ]
  },
  {
   "cell_type": "code",
   "execution_count": 34,
   "metadata": {},
   "outputs": [
    {
     "name": "stdout",
     "output_type": "stream",
     "text": [
      "Dataframe has 1395 rows and 23 columns with 0 duplicates. Is there missing value? False\n",
      "\n",
      "<class 'pandas.core.frame.DataFrame'>\n",
      "Int64Index: 1395 entries, 0 to 1457\n",
      "Data columns (total 23 columns):\n",
      "team_api_id                       1395 non-null int64\n",
      "date                              1395 non-null datetime64[ns]\n",
      "buildUpPlaySpeed                  1395 non-null int64\n",
      "buildUpPlaySpeedClass             1395 non-null object\n",
      "buildUpPlayDribbling              1395 non-null int64\n",
      "buildUpPlayDribblingClass         1395 non-null object\n",
      "buildUpPlayPassing                1395 non-null int64\n",
      "buildUpPlayPassingClass           1395 non-null object\n",
      "buildUpPlayPositioningClass       1395 non-null object\n",
      "chanceCreationPassing             1395 non-null int64\n",
      "chanceCreationPassingClass        1395 non-null object\n",
      "chanceCreationCrossing            1395 non-null int64\n",
      "chanceCreationCrossingClass       1395 non-null object\n",
      "chanceCreationShooting            1395 non-null int64\n",
      "chanceCreationShootingClass       1395 non-null object\n",
      "chanceCreationPositioningClass    1395 non-null object\n",
      "defencePressure                   1395 non-null int64\n",
      "defencePressureClass              1395 non-null object\n",
      "defenceAggression                 1395 non-null int64\n",
      "defenceAggressionClass            1395 non-null object\n",
      "defenceTeamWidth                  1395 non-null int64\n",
      "defenceTeamWidthClass             1395 non-null object\n",
      "defenceDefenderLineClass          1395 non-null object\n",
      "dtypes: datetime64[ns](1), int64(10), object(12)\n",
      "memory usage: 261.6+ KB\n"
     ]
    }
   ],
   "source": [
    "# Cleaned Team_Attributes dataframe\n",
    "inspect_dataframe(df_team_attrs)\n",
    "df_team_attrs.info()"
   ]
  },
  {
   "cell_type": "markdown",
   "metadata": {},
   "source": [
    "**Cleaning: *Match* dataframe.**"
   ]
  },
  {
   "cell_type": "code",
   "execution_count": 35,
   "metadata": {},
   "outputs": [
    {
     "name": "stdout",
     "output_type": "stream",
     "text": [
      "Dataframe has 25979 rows and 9 columns with 0 duplicates. Is there missing value? False\n",
      "\n"
     ]
    }
   ],
   "source": [
    "# Drop undesired columns and inspect again on duplicated values.\n",
    "cols = []\n",
    "for col in df_match.columns:\n",
    "    if col not in ['country_id', 'season', 'stage', 'date', 'match_api_id', 'home_team_api_id',\n",
    "                   'away_team_api_id', 'home_team_goal', 'away_team_goal']:\n",
    "        cols.append(col)\n",
    "        \n",
    "df_match = drop_columns(df_match, cols)\n",
    "inspect_dataframe(df_match)"
   ]
  },
  {
   "cell_type": "markdown",
   "metadata": {},
   "source": [
    "<a id='eda'></a>\n",
    "## Exploratory Data Analysis"
   ]
  },
  {
   "cell_type": "code",
   "execution_count": 36,
   "metadata": {},
   "outputs": [
    {
     "data": {
      "text/html": [
       "<div>\n",
       "<style scoped>\n",
       "    .dataframe tbody tr th:only-of-type {\n",
       "        vertical-align: middle;\n",
       "    }\n",
       "\n",
       "    .dataframe tbody tr th {\n",
       "        vertical-align: top;\n",
       "    }\n",
       "\n",
       "    .dataframe thead th {\n",
       "        text-align: right;\n",
       "    }\n",
       "</style>\n",
       "<table border=\"1\" class=\"dataframe\">\n",
       "  <thead>\n",
       "    <tr style=\"text-align: right;\">\n",
       "      <th></th>\n",
       "      <th>height</th>\n",
       "      <th>weight</th>\n",
       "    </tr>\n",
       "  </thead>\n",
       "  <tbody>\n",
       "    <tr>\n",
       "      <th>count</th>\n",
       "      <td>11060.000000</td>\n",
       "      <td>11060.000000</td>\n",
       "    </tr>\n",
       "    <tr>\n",
       "      <th>mean</th>\n",
       "      <td>181.867445</td>\n",
       "      <td>168.380289</td>\n",
       "    </tr>\n",
       "    <tr>\n",
       "      <th>std</th>\n",
       "      <td>6.369201</td>\n",
       "      <td>14.990217</td>\n",
       "    </tr>\n",
       "    <tr>\n",
       "      <th>min</th>\n",
       "      <td>157.480000</td>\n",
       "      <td>117.000000</td>\n",
       "    </tr>\n",
       "    <tr>\n",
       "      <th>25%</th>\n",
       "      <td>177.800000</td>\n",
       "      <td>159.000000</td>\n",
       "    </tr>\n",
       "    <tr>\n",
       "      <th>50%</th>\n",
       "      <td>182.880000</td>\n",
       "      <td>168.000000</td>\n",
       "    </tr>\n",
       "    <tr>\n",
       "      <th>75%</th>\n",
       "      <td>185.420000</td>\n",
       "      <td>179.000000</td>\n",
       "    </tr>\n",
       "    <tr>\n",
       "      <th>max</th>\n",
       "      <td>208.280000</td>\n",
       "      <td>243.000000</td>\n",
       "    </tr>\n",
       "  </tbody>\n",
       "</table>\n",
       "</div>"
      ],
      "text/plain": [
       "             height        weight\n",
       "count  11060.000000  11060.000000\n",
       "mean     181.867445    168.380289\n",
       "std        6.369201     14.990217\n",
       "min      157.480000    117.000000\n",
       "25%      177.800000    159.000000\n",
       "50%      182.880000    168.000000\n",
       "75%      185.420000    179.000000\n",
       "max      208.280000    243.000000"
      ]
     },
     "execution_count": 36,
     "metadata": {},
     "output_type": "execute_result"
    }
   ],
   "source": [
    "#Explore more data about the player dataframe \n",
    "df_player.describe()[['height', 'weight']]"
   ]
  },
  {
   "cell_type": "code",
   "execution_count": 37,
   "metadata": {},
   "outputs": [
    {
     "data": {
      "image/png": "[encoded data removed]",
      "text/plain": [
       "<matplotlib.figure.Figure at 0x7fc19ca1b630>"
      ]
     },
     "metadata": {},
     "output_type": "display_data"
    }
   ],
   "source": [
    "sns.set_style('dark')\n",
    "df_player.height.hist(label = 'height')\n",
    "df_player.weight.hist(label = 'weight', alpha=.7)\n",
    "plt.legend();"
   ]
  },
  {
   "cell_type": "code",
   "execution_count": 38,
   "metadata": {},
   "outputs": [
    {
     "data": {
      "image/png": "[encoded data removed]",
      "text/plain": [
       "<matplotlib.figure.Figure at 0x7fc19ca28a20>"
      ]
     },
     "metadata": {},
     "output_type": "display_data"
    }
   ],
   "source": [
    "plt.scatter(x=df_player.height, y=df_player.weight)\n",
    "plt.xlabel('height')\n",
    "plt.ylabel('weight');"
   ]
  },
  {
   "cell_type": "markdown",
   "metadata": {},
   "source": [
    "### Research Question 1 (Overall rating of a player changes over time?!)"
   ]
  },
  {
   "cell_type": "code",
   "execution_count": 39,
   "metadata": {},
   "outputs": [
    {
     "data": {
      "text/html": [
       "<div>\n",
       "<style scoped>\n",
       "    .dataframe tbody tr th:only-of-type {\n",
       "        vertical-align: middle;\n",
       "    }\n",
       "\n",
       "    .dataframe tbody tr th {\n",
       "        vertical-align: top;\n",
       "    }\n",
       "\n",
       "    .dataframe thead th {\n",
       "        text-align: right;\n",
       "    }\n",
       "</style>\n",
       "<table border=\"1\" class=\"dataframe\">\n",
       "  <thead>\n",
       "    <tr style=\"text-align: right;\">\n",
       "      <th></th>\n",
       "      <th>player_api_id</th>\n",
       "      <th>date</th>\n",
       "      <th>overall_rating</th>\n",
       "      <th>player_name</th>\n",
       "      <th>birthday</th>\n",
       "      <th>height</th>\n",
       "      <th>weight</th>\n",
       "      <th>age</th>\n",
       "    </tr>\n",
       "  </thead>\n",
       "  <tbody>\n",
       "    <tr>\n",
       "      <th>0</th>\n",
       "      <td>505942</td>\n",
       "      <td>2016-02-18</td>\n",
       "      <td>67</td>\n",
       "      <td>Aaron Appindangoye</td>\n",
       "      <td>1992-02-29</td>\n",
       "      <td>182.88</td>\n",
       "      <td>187</td>\n",
       "      <td>24</td>\n",
       "    </tr>\n",
       "    <tr>\n",
       "      <th>1</th>\n",
       "      <td>505942</td>\n",
       "      <td>2015-11-19</td>\n",
       "      <td>67</td>\n",
       "      <td>Aaron Appindangoye</td>\n",
       "      <td>1992-02-29</td>\n",
       "      <td>182.88</td>\n",
       "      <td>187</td>\n",
       "      <td>23</td>\n",
       "    </tr>\n",
       "    <tr>\n",
       "      <th>2</th>\n",
       "      <td>505942</td>\n",
       "      <td>2015-09-21</td>\n",
       "      <td>62</td>\n",
       "      <td>Aaron Appindangoye</td>\n",
       "      <td>1992-02-29</td>\n",
       "      <td>182.88</td>\n",
       "      <td>187</td>\n",
       "      <td>23</td>\n",
       "    </tr>\n",
       "    <tr>\n",
       "      <th>3</th>\n",
       "      <td>505942</td>\n",
       "      <td>2015-03-20</td>\n",
       "      <td>61</td>\n",
       "      <td>Aaron Appindangoye</td>\n",
       "      <td>1992-02-29</td>\n",
       "      <td>182.88</td>\n",
       "      <td>187</td>\n",
       "      <td>23</td>\n",
       "    </tr>\n",
       "    <tr>\n",
       "      <th>4</th>\n",
       "      <td>505942</td>\n",
       "      <td>2007-02-22</td>\n",
       "      <td>61</td>\n",
       "      <td>Aaron Appindangoye</td>\n",
       "      <td>1992-02-29</td>\n",
       "      <td>182.88</td>\n",
       "      <td>187</td>\n",
       "      <td>15</td>\n",
       "    </tr>\n",
       "  </tbody>\n",
       "</table>\n",
       "</div>"
      ],
      "text/plain": [
       "   player_api_id       date  overall_rating         player_name   birthday  \\\n",
       "0         505942 2016-02-18              67  Aaron Appindangoye 1992-02-29   \n",
       "1         505942 2015-11-19              67  Aaron Appindangoye 1992-02-29   \n",
       "2         505942 2015-09-21              62  Aaron Appindangoye 1992-02-29   \n",
       "3         505942 2015-03-20              61  Aaron Appindangoye 1992-02-29   \n",
       "4         505942 2007-02-22              61  Aaron Appindangoye 1992-02-29   \n",
       "\n",
       "   height  weight  age  \n",
       "0  182.88     187   24  \n",
       "1  182.88     187   23  \n",
       "2  182.88     187   23  \n",
       "3  182.88     187   23  \n",
       "4  182.88     187   15  "
      ]
     },
     "execution_count": 39,
     "metadata": {},
     "output_type": "execute_result"
    }
   ],
   "source": [
    "# Overall rating over time for each player ..\n",
    "# 1- Merge between player and player Attributes dataframes\n",
    "df_player_merge = df_player_attrs.merge(df_player, left_on='player_api_id', right_on='player_api_id', how= 'inner')\n",
    "\n",
    "# 2- Adding Age col. \n",
    "df_player_merge['age'] = df_player_merge['date'].dt.year - df_player_merge['birthday'].dt.year\n",
    "df_player_merge.head()"
   ]
  },
  {
   "cell_type": "code",
   "execution_count": 40,
   "metadata": {},
   "outputs": [],
   "source": [
    "# Choose adult players with average rate of each year.\n",
    "df_adult_players = df_player_merge.query('age > 20')\n",
    "\n",
    "df_adult_player_rates = df_adult_players.groupby(['player_api_id', 'age']).mean()['overall_rating'].reset_index(\n",
    "    name='average_rate')\n",
    "\n",
    "# Convert datatype of average_rate to int\n",
    "df_adult_player_rates['average_rate'] = df_adult_player_rates['average_rate'].astype(int)\n",
    "\n",
    "#Create a dictionary contains on a number of ratings for each player_api_id.\n",
    "player_api_ids = df_adult_player_rates.player_api_id\n",
    "list_obs = {}\n",
    "for id in df_adult_player_rates.player_api_id:\n",
    "    try:\n",
    "        list_obs[id] = list_obs[id] + 1\n",
    "    except:\n",
    "        list_obs[id] = 1\n",
    "        \n",
    "#Choose a sample from (25) player_api_ids has 10 observations to check them as a series.\n",
    "df_ids_obs = pd.DataFrame(list(list_obs.items()), columns=['player_api_id', 'num_obs'])\n",
    "df_max_obs = df_ids_obs.query('num_obs == {}'.format(df_ids_obs.num_obs.max()))\n",
    "sample_list = random.sample(list(df_max_obs['player_api_id']), 10)"
   ]
  },
  {
   "cell_type": "code",
   "execution_count": 41,
   "metadata": {},
   "outputs": [
    {
     "data": {
      "image/png": "[encoded data removed]",
      "text/plain": [
       "<matplotlib.figure.Figure at 0x7fc19c8fa588>"
      ]
     },
     "metadata": {},
     "output_type": "display_data"
    }
   ],
   "source": [
    "# Drawing Line plot\n",
    "plt.figure(figsize=(15,5));\n",
    "for id in sample_list:\n",
    "    selected_id = df_adult_player_rates['player_api_id'] == id\n",
    "    select_player = df_adult_player_rates[selected_id]\n",
    "    x = select_player['age']  \n",
    "    y = select_player['average_rate']\n",
    "    plt.plot(x, y)\n",
    "    plt.xlabel('Age')\n",
    "    plt.ylabel('Avg. Rate')\n",
    "    plt.title('the average overall rating');"
   ]
  },
  {
   "cell_type": "code",
   "execution_count": 42,
   "metadata": {},
   "outputs": [
    {
     "name": "stdout",
     "output_type": "stream",
     "text": [
      "coefficient of determination: 0.14452931009205783\n",
      "intercept: 64.53026164820972\n",
      "coefficients: [-0.08476564  0.03132761  0.55223598]\n"
     ]
    }
   ],
   "source": [
    "# Do a Multiple linear regrssing between a dependent variable 'overall_rating' and independent variables:\n",
    "# 'height', 'weight', and 'age.'\n",
    "\n",
    "# 1- Import class and provide data.\n",
    "from sklearn.linear_model import LinearRegression\n",
    "x = np.array(df_player_merge[['height', 'weight', 'age']]) # x is a three-dimensional array with the three columns\n",
    "y = np.array(df_player_merge['overall_rating']) # y is usually a one-dimensional array\n",
    "\n",
    "# 2- Create the regression model as an instance of LinearRegression and fit it.\n",
    "model = LinearRegression().fit(x, y)\n",
    "\n",
    "# 3- Get results\n",
    "r_sq = model.score(x, y) #  the value of 𝑅².\n",
    "print(\"coefficient of determination: {}\".format(r_sq))\n",
    "\n",
    "print(\"intercept: {}\".format(model.intercept_))\n",
    "\n",
    "print(\"coefficients: {}\".format(model.coef_))"
   ]
  },
  {
   "cell_type": "markdown",
   "metadata": {},
   "source": [
    "### Research Question 2 (What teams improved the most over the time period?!)"
   ]
  },
  {
   "cell_type": "code",
   "execution_count": 43,
   "metadata": {},
   "outputs": [],
   "source": [
    "# A function to query inside the Match dataframe on a specific season and a specific country.\n",
    "def get_hist_match_details(season, country_id):\n",
    "    df = df_match.query('season == \"{}\" and country_id == {}'.format(season, country_id))\n",
    "    return df"
   ]
  },
  {
   "cell_type": "code",
   "execution_count": 44,
   "metadata": {},
   "outputs": [],
   "source": [
    "# A function to determine the winner team according to the total of goals (home and away goals.) \n",
    "def get_winner_team_id(df):\n",
    "    # Order Teams According to points.\n",
    "    home_goals = df.groupby('home_team_api_id')['home_team_goal'].sum()\n",
    "    away_goals = df.groupby('away_team_api_id')['away_team_goal'].sum()\n",
    "    df_series_list = [home_goals, away_goals]\n",
    "    df_goals=pd.DataFrame(df_series_list)\n",
    "    \n",
    "    df_goals = df_goals.transpose()\n",
    "    df_goals['total_goals'] = df_goals.sum(axis=1)\n",
    "    max_goals = df_goals['total_goals'].max()\n",
    "    \n",
    "    return df_goals.query('total_goals == {}'.format(max_goals)).index[0]"
   ]
  },
  {
   "cell_type": "code",
   "execution_count": 45,
   "metadata": {},
   "outputs": [
    {
     "data": {
      "text/html": [
       "<div>\n",
       "<style scoped>\n",
       "    .dataframe tbody tr th:only-of-type {\n",
       "        vertical-align: middle;\n",
       "    }\n",
       "\n",
       "    .dataframe tbody tr th {\n",
       "        vertical-align: top;\n",
       "    }\n",
       "\n",
       "    .dataframe thead th {\n",
       "        text-align: right;\n",
       "    }\n",
       "</style>\n",
       "<table border=\"1\" class=\"dataframe\">\n",
       "  <thead>\n",
       "    <tr style=\"text-align: right;\">\n",
       "      <th></th>\n",
       "      <th>country_id</th>\n",
       "      <th>num_matches_4stage</th>\n",
       "      <th>num_stages</th>\n",
       "      <th>num_teams</th>\n",
       "      <th>season</th>\n",
       "      <th>total_matches</th>\n",
       "      <th>winner_team_id</th>\n",
       "    </tr>\n",
       "  </thead>\n",
       "  <tbody>\n",
       "    <tr>\n",
       "      <th>0</th>\n",
       "      <td>1</td>\n",
       "      <td>9</td>\n",
       "      <td>34</td>\n",
       "      <td>18</td>\n",
       "      <td>2008/2009</td>\n",
       "      <td>306</td>\n",
       "      <td>8635</td>\n",
       "    </tr>\n",
       "    <tr>\n",
       "      <th>1</th>\n",
       "      <td>1729</td>\n",
       "      <td>10</td>\n",
       "      <td>38</td>\n",
       "      <td>20</td>\n",
       "      <td>2008/2009</td>\n",
       "      <td>380</td>\n",
       "      <td>8650</td>\n",
       "    </tr>\n",
       "    <tr>\n",
       "      <th>2</th>\n",
       "      <td>4769</td>\n",
       "      <td>10</td>\n",
       "      <td>38</td>\n",
       "      <td>20</td>\n",
       "      <td>2008/2009</td>\n",
       "      <td>380</td>\n",
       "      <td>8592</td>\n",
       "    </tr>\n",
       "    <tr>\n",
       "      <th>3</th>\n",
       "      <td>7809</td>\n",
       "      <td>9</td>\n",
       "      <td>34</td>\n",
       "      <td>18</td>\n",
       "      <td>2008/2009</td>\n",
       "      <td>306</td>\n",
       "      <td>8721</td>\n",
       "    </tr>\n",
       "    <tr>\n",
       "      <th>4</th>\n",
       "      <td>10257</td>\n",
       "      <td>10</td>\n",
       "      <td>38</td>\n",
       "      <td>20</td>\n",
       "      <td>2008/2009</td>\n",
       "      <td>380</td>\n",
       "      <td>8564</td>\n",
       "    </tr>\n",
       "    <tr>\n",
       "      <th>5</th>\n",
       "      <td>13274</td>\n",
       "      <td>9</td>\n",
       "      <td>34</td>\n",
       "      <td>18</td>\n",
       "      <td>2008/2009</td>\n",
       "      <td>306</td>\n",
       "      <td>8593</td>\n",
       "    </tr>\n",
       "    <tr>\n",
       "      <th>6</th>\n",
       "      <td>15722</td>\n",
       "      <td>8</td>\n",
       "      <td>30</td>\n",
       "      <td>16</td>\n",
       "      <td>2008/2009</td>\n",
       "      <td>240</td>\n",
       "      <td>10265</td>\n",
       "    </tr>\n",
       "    <tr>\n",
       "      <th>7</th>\n",
       "      <td>17642</td>\n",
       "      <td>8</td>\n",
       "      <td>30</td>\n",
       "      <td>16</td>\n",
       "      <td>2008/2009</td>\n",
       "      <td>240</td>\n",
       "      <td>9773</td>\n",
       "    </tr>\n",
       "    <tr>\n",
       "      <th>8</th>\n",
       "      <td>19694</td>\n",
       "      <td>6</td>\n",
       "      <td>38</td>\n",
       "      <td>12</td>\n",
       "      <td>2008/2009</td>\n",
       "      <td>228</td>\n",
       "      <td>9925</td>\n",
       "    </tr>\n",
       "    <tr>\n",
       "      <th>9</th>\n",
       "      <td>21518</td>\n",
       "      <td>10</td>\n",
       "      <td>38</td>\n",
       "      <td>20</td>\n",
       "      <td>2008/2009</td>\n",
       "      <td>380</td>\n",
       "      <td>8634</td>\n",
       "    </tr>\n",
       "    <tr>\n",
       "      <th>10</th>\n",
       "      <td>24558</td>\n",
       "      <td>5</td>\n",
       "      <td>36</td>\n",
       "      <td>10</td>\n",
       "      <td>2008/2009</td>\n",
       "      <td>180</td>\n",
       "      <td>10192</td>\n",
       "    </tr>\n",
       "  </tbody>\n",
       "</table>\n",
       "</div>"
      ],
      "text/plain": [
       "    country_id  num_matches_4stage  num_stages  num_teams     season  \\\n",
       "0            1                   9          34         18  2008/2009   \n",
       "1         1729                  10          38         20  2008/2009   \n",
       "2         4769                  10          38         20  2008/2009   \n",
       "3         7809                   9          34         18  2008/2009   \n",
       "4        10257                  10          38         20  2008/2009   \n",
       "5        13274                   9          34         18  2008/2009   \n",
       "6        15722                   8          30         16  2008/2009   \n",
       "7        17642                   8          30         16  2008/2009   \n",
       "8        19694                   6          38         12  2008/2009   \n",
       "9        21518                  10          38         20  2008/2009   \n",
       "10       24558                   5          36         10  2008/2009   \n",
       "\n",
       "    total_matches  winner_team_id  \n",
       "0             306            8635  \n",
       "1             380            8650  \n",
       "2             380            8592  \n",
       "3             306            8721  \n",
       "4             380            8564  \n",
       "5             306            8593  \n",
       "6             240           10265  \n",
       "7             240            9773  \n",
       "8             228            9925  \n",
       "9             380            8634  \n",
       "10            180           10192  "
      ]
     },
     "execution_count": 45,
     "metadata": {},
     "output_type": "execute_result"
    }
   ],
   "source": [
    "# Create Function tells us number of stages, Number of matches and number of teams of each country   \n",
    "list_dt = []\n",
    "for season in df_match.season.unique():\n",
    "    for id in df_country.id:\n",
    "        df = get_hist_match_details(season, id)\n",
    "        num_stages = df.stage.nunique()\n",
    "        num_teams = df.home_team_api_id.nunique()\n",
    "        total_matches = df.shape[0]\n",
    "        num_matches_each_stage = int(total_matches / num_stages)\n",
    "        winner_team_id = get_winner_team_id(df)\n",
    "        list_dt.append({\n",
    "            'season': season,\n",
    "            'country_id': id,\n",
    "            'num_teams': num_teams,\n",
    "            'num_stages': num_stages,\n",
    "            'num_matches_4stage': num_matches_each_stage,\n",
    "            'total_matches': total_matches,\n",
    "            'winner_team_id': winner_team_id\n",
    "        })\n",
    "df = pd.DataFrame(list_dt)\n",
    "df.head(len(df_country)) "
   ]
  },
  {
   "cell_type": "code",
   "execution_count": 46,
   "metadata": {},
   "outputs": [
    {
     "data": {
      "text/html": [
       "<div>\n",
       "<style scoped>\n",
       "    .dataframe tbody tr th:only-of-type {\n",
       "        vertical-align: middle;\n",
       "    }\n",
       "\n",
       "    .dataframe tbody tr th {\n",
       "        vertical-align: top;\n",
       "    }\n",
       "\n",
       "    .dataframe thead th {\n",
       "        text-align: right;\n",
       "    }\n",
       "</style>\n",
       "<table border=\"1\" class=\"dataframe\">\n",
       "  <thead>\n",
       "    <tr style=\"text-align: right;\">\n",
       "      <th></th>\n",
       "      <th>country_id</th>\n",
       "      <th>num_matches_4stage</th>\n",
       "      <th>num_stages</th>\n",
       "      <th>num_teams</th>\n",
       "      <th>season</th>\n",
       "      <th>total_matches</th>\n",
       "      <th>winner_team_id</th>\n",
       "    </tr>\n",
       "  </thead>\n",
       "  <tbody>\n",
       "    <tr>\n",
       "      <th>2</th>\n",
       "      <td>4769</td>\n",
       "      <td>10</td>\n",
       "      <td>38</td>\n",
       "      <td>20</td>\n",
       "      <td>2008/2009</td>\n",
       "      <td>380</td>\n",
       "      <td>8592</td>\n",
       "    </tr>\n",
       "    <tr>\n",
       "      <th>13</th>\n",
       "      <td>4769</td>\n",
       "      <td>10</td>\n",
       "      <td>38</td>\n",
       "      <td>20</td>\n",
       "      <td>2009/2010</td>\n",
       "      <td>380</td>\n",
       "      <td>8639</td>\n",
       "    </tr>\n",
       "    <tr>\n",
       "      <th>24</th>\n",
       "      <td>4769</td>\n",
       "      <td>10</td>\n",
       "      <td>38</td>\n",
       "      <td>20</td>\n",
       "      <td>2010/2011</td>\n",
       "      <td>380</td>\n",
       "      <td>8639</td>\n",
       "    </tr>\n",
       "    <tr>\n",
       "      <th>35</th>\n",
       "      <td>4769</td>\n",
       "      <td>10</td>\n",
       "      <td>38</td>\n",
       "      <td>20</td>\n",
       "      <td>2011/2012</td>\n",
       "      <td>380</td>\n",
       "      <td>9847</td>\n",
       "    </tr>\n",
       "    <tr>\n",
       "      <th>46</th>\n",
       "      <td>4769</td>\n",
       "      <td>10</td>\n",
       "      <td>38</td>\n",
       "      <td>20</td>\n",
       "      <td>2012/2013</td>\n",
       "      <td>380</td>\n",
       "      <td>9847</td>\n",
       "    </tr>\n",
       "    <tr>\n",
       "      <th>57</th>\n",
       "      <td>4769</td>\n",
       "      <td>10</td>\n",
       "      <td>38</td>\n",
       "      <td>20</td>\n",
       "      <td>2013/2014</td>\n",
       "      <td>380</td>\n",
       "      <td>9847</td>\n",
       "    </tr>\n",
       "    <tr>\n",
       "      <th>68</th>\n",
       "      <td>4769</td>\n",
       "      <td>10</td>\n",
       "      <td>38</td>\n",
       "      <td>20</td>\n",
       "      <td>2014/2015</td>\n",
       "      <td>380</td>\n",
       "      <td>9847</td>\n",
       "    </tr>\n",
       "    <tr>\n",
       "      <th>79</th>\n",
       "      <td>4769</td>\n",
       "      <td>10</td>\n",
       "      <td>38</td>\n",
       "      <td>20</td>\n",
       "      <td>2015/2016</td>\n",
       "      <td>380</td>\n",
       "      <td>9847</td>\n",
       "    </tr>\n",
       "  </tbody>\n",
       "</table>\n",
       "</div>"
      ],
      "text/plain": [
       "    country_id  num_matches_4stage  num_stages  num_teams     season  \\\n",
       "2         4769                  10          38         20  2008/2009   \n",
       "13        4769                  10          38         20  2009/2010   \n",
       "24        4769                  10          38         20  2010/2011   \n",
       "35        4769                  10          38         20  2011/2012   \n",
       "46        4769                  10          38         20  2012/2013   \n",
       "57        4769                  10          38         20  2013/2014   \n",
       "68        4769                  10          38         20  2014/2015   \n",
       "79        4769                  10          38         20  2015/2016   \n",
       "\n",
       "    total_matches  winner_team_id  \n",
       "2             380            8592  \n",
       "13            380            8639  \n",
       "24            380            8639  \n",
       "35            380            9847  \n",
       "46            380            9847  \n",
       "57            380            9847  \n",
       "68            380            9847  \n",
       "79            380            9847  "
      ]
     },
     "execution_count": 46,
     "metadata": {},
     "output_type": "execute_result"
    }
   ],
   "source": [
    "# A series of seasons for a specific country 4769\n",
    "df.query('country_id == 4769')"
   ]
  },
  {
   "cell_type": "code",
   "execution_count": 47,
   "metadata": {},
   "outputs": [
    {
     "data": {
      "text/html": [
       "<div>\n",
       "<style scoped>\n",
       "    .dataframe tbody tr th:only-of-type {\n",
       "        vertical-align: middle;\n",
       "    }\n",
       "\n",
       "    .dataframe tbody tr th {\n",
       "        vertical-align: top;\n",
       "    }\n",
       "\n",
       "    .dataframe thead th {\n",
       "        text-align: right;\n",
       "    }\n",
       "</style>\n",
       "<table border=\"1\" class=\"dataframe\">\n",
       "  <thead>\n",
       "    <tr style=\"text-align: right;\">\n",
       "      <th></th>\n",
       "      <th>country_id</th>\n",
       "      <th>winner_team_id</th>\n",
       "      <th>count</th>\n",
       "    </tr>\n",
       "  </thead>\n",
       "  <tbody>\n",
       "    <tr>\n",
       "      <th>0</th>\n",
       "      <td>1</td>\n",
       "      <td>8342</td>\n",
       "      <td>2</td>\n",
       "    </tr>\n",
       "    <tr>\n",
       "      <th>1</th>\n",
       "      <td>1</td>\n",
       "      <td>8635</td>\n",
       "      <td>3</td>\n",
       "    </tr>\n",
       "    <tr>\n",
       "      <th>2</th>\n",
       "      <td>1</td>\n",
       "      <td>9987</td>\n",
       "      <td>1</td>\n",
       "    </tr>\n",
       "    <tr>\n",
       "      <th>3</th>\n",
       "      <td>1</td>\n",
       "      <td>9991</td>\n",
       "      <td>2</td>\n",
       "    </tr>\n",
       "    <tr>\n",
       "      <th>4</th>\n",
       "      <td>1729</td>\n",
       "      <td>8455</td>\n",
       "      <td>1</td>\n",
       "    </tr>\n",
       "  </tbody>\n",
       "</table>\n",
       "</div>"
      ],
      "text/plain": [
       "   country_id  winner_team_id  count\n",
       "0           1            8342      2\n",
       "1           1            8635      3\n",
       "2           1            9987      1\n",
       "3           1            9991      2\n",
       "4        1729            8455      1"
      ]
     },
     "execution_count": 47,
     "metadata": {},
     "output_type": "execute_result"
    }
   ],
   "source": [
    "# Customize 'df'\n",
    "df_cust = pd.DataFrame({'count': df.groupby(['country_id', 'winner_team_id']).size()}).reset_index()\n",
    "df_cust.head()"
   ]
  },
  {
   "cell_type": "code",
   "execution_count": 48,
   "metadata": {},
   "outputs": [
    {
     "data": {
      "image/png": "[encoded data removed]",
      "text/plain": [
       "<matplotlib.figure.Figure at 0x7fc1962869e8>"
      ]
     },
     "metadata": {},
     "output_type": "display_data"
    }
   ],
   "source": [
    "# Plot the top teams in each country over 8 seasons\n",
    "fig = plt.figure(figsize=(25, 15))\n",
    "plot_num = 1\n",
    "\n",
    "list_name = []\n",
    "for id in df_country['id']:\n",
    "    top_teams = df.query('country_id == {}'.format(id)).groupby('winner_team_id')['season'].count()\n",
    "    records = list(top_teams) \n",
    "    for i in top_teams.index:\n",
    "            team_name = df_team.query('team_api_id == {}'.format(i))['team_short_name']\n",
    "            list_name.append(list(team_name)[0])\n",
    "    \n",
    "    country_name = list(df_country.query('id == {}'.format(id))['name'])[0] \n",
    "    locations = np.arange(1, len(list_name) + 1)\n",
    "    \n",
    "    sub = plt.subplot(3, 4, plot_num)\n",
    "    plt.bar(locations, records, tick_label = list_name)\n",
    "    plt.title(country_name)\n",
    "    plt.ylabel('Times of wins')\n",
    "    plt.xlabel('Teams')\n",
    "    #plt.xticks(rotation = 45)\n",
    "    \n",
    "    plot_num += 1\n",
    "    list_name.clear()\n",
    "# set the spacing between subplots\n",
    "fig.tight_layout()"
   ]
  },
  {
   "cell_type": "markdown",
   "metadata": {},
   "source": [
    "### Research Question 3  (What team attributes lead to the most victories?!)"
   ]
  },
  {
   "cell_type": "code",
   "execution_count": 49,
   "metadata": {},
   "outputs": [],
   "source": [
    "# Order Teams According to number of goals.\n",
    "def get_rates_team_ids(df):\n",
    "    home_goals = df.groupby('home_team_api_id')['home_team_goal'].sum()\n",
    "    away_goals = df.groupby('away_team_api_id')['away_team_goal'].sum()\n",
    "    df_series_list = [home_goals, away_goals]\n",
    "    df_goals=pd.DataFrame(df_series_list)\n",
    "    df_goals = df_goals.transpose()\n",
    "    df_goals['total_goals'] = df_goals.sum(axis=1)\n",
    "    return df_goals"
   ]
  },
  {
   "cell_type": "code",
   "execution_count": 50,
   "metadata": {},
   "outputs": [],
   "source": [
    "# A history/rate of a specific team comparison with other teams in each country over time/seasons.\n",
    "def hist_teams_of_country(country_id):\n",
    "    dfx = pd.DataFrame(columns=['index', 'season', 'country_id', 'home_team_goal', 'away_team_goal', 'total_goals'])\n",
    "    for season in df_match.season.unique():\n",
    "        df = get_hist_match_details(season, country_id)\n",
    "        ratings_teams = get_rates_team_ids(df)\n",
    "        ratings_teams.sort_values('total_goals', inplace=True)\n",
    "        ratings_teams.reset_index(inplace=True)\n",
    "        ratings_teams['season'] = np.repeat(season, len(ratings_teams.index))\n",
    "        ratings_teams['country_id'] = np.repeat(country_id, len(ratings_teams.index))\n",
    "        ratings_teams['order_team'] = np.arange(len(ratings_teams.index), 0, -1)\n",
    "        dfx = dfx.append(ratings_teams, sort=False, ignore_index=True)\n",
    "    \n",
    "    dfx['order_team'] = dfx['order_team'].astype(int)\n",
    "    dfx = dfx.rename(columns={'index':'team_id'})\n",
    "    return dfx"
   ]
  },
  {
   "cell_type": "markdown",
   "metadata": {},
   "source": [
    ">An attempt to know what the team won recently (2015/2016 season) and study the changes of the attributes\n",
    "during 2015/2016 season and last period when the team lost.<br>\n",
    ">Country: **England** is selected  where the previous chart shows the competition between more than 2 teams."
   ]
  },
  {
   "cell_type": "code",
   "execution_count": 51,
   "metadata": {},
   "outputs": [
    {
     "name": "stdout",
     "output_type": "stream",
     "text": [
      "Team id: 8650\n",
      "The Lowest Order Season: 2011/2012\n"
     ]
    }
   ],
   "source": [
    "country_id = 1729\n",
    "season = \"2015/2016\"\n",
    "order_team = 1\n",
    "\n",
    "df_team_history = hist_teams_of_country(country_id)\n",
    "top_team_id = df_team_history.query('season == {} and order_team == {}'.format(\"season\", order_team))['team_id'].values[0]\n",
    "selected_team = df_team_history.query('team_id == {}'.format(top_team_id))\n",
    "\n",
    "lowest_order = selected_team.order_team.max()\n",
    "date_lowest_order = selected_team.query('order_team == {}'.format(lowest_order))['season'].values[0]\n",
    "print(\"Team id: \" + str(selected_team['team_id'].values[0]) + \"\\nThe Lowest Order Season: \" + date_lowest_order)"
   ]
  },
  {
   "cell_type": "code",
   "execution_count": 52,
   "metadata": {},
   "outputs": [],
   "source": [
    "# Average Attributes of the team in a specific season\n",
    "def get_average_team_attributes(team_id, range_date):\n",
    "    df= df_team_attrs.query('team_api_id == {} and date in {}'.format(team_id, range_date))\n",
    "    return df[['date', 'buildUpPlaySpeed', 'buildUpPlayDribbling', 'buildUpPlayPassing',\n",
    "   'chanceCreationPassing', 'chanceCreationCrossing', 'chanceCreationShooting',\n",
    "   'defencePressure', 'defenceAggression', 'defenceTeamWidth']]"
   ]
  },
  {
   "cell_type": "code",
   "execution_count": 53,
   "metadata": {},
   "outputs": [],
   "source": [
    "# A function to create range of dates from two strings' dates.\n",
    "def create_datelist(start_date, end_date):\n",
    "    \"\"\"\n",
    "    Use start_date and end_date are string datatype with a format '%Y-%m-%d'\n",
    "    The retrun value is a list of dates between 2 provided args. dates.\n",
    "    \"\"\"\n",
    "    date_list = []\n",
    "    d1 = datetime.strptime(end_date, \"%Y-%m-%d\") #\"%Y-%m-%d %H:%M:%S\"\n",
    "    d2 = datetime.strptime(start_date, \"%Y-%m-%d\")\n",
    "    numdays = abs((d2 - d1).days)\n",
    "    basedate = datetime.strptime(end_date, \"%Y-%m-%d\")\n",
    "    date_list += [basedate - timedelta(days=x) for x in range(numdays)]\n",
    "    return date_list"
   ]
  },
  {
   "cell_type": "code",
   "execution_count": 54,
   "metadata": {},
   "outputs": [],
   "source": [
    "team_id = 8650\n",
    "\n",
    "# Separate date of the lowest order\n",
    "start_season1 = date_lowest_order.split('/')[0]\n",
    "start_season1 = start_season1 + \"-06-30\"\n",
    "end_season1 = date_lowest_order.split('/')[1]\n",
    "end_season1 = end_season1 + \"-06-30\"\n",
    "\n",
    "date_list_low_order = create_datelist(start_season1, end_season1)\n",
    "df_team_attributes_low_order = get_average_team_attributes(team_id, date_list_low_order)\n",
    "\n",
    "# Separate date of the top order\n",
    "date_top_order = '2015/2016'\n",
    "start_season2 = date_top_order.split('/')[0]\n",
    "start_season2 = start_season2 + \"-06-30\"\n",
    "end_season2 = date_top_order.split('/')[1]\n",
    "end_season2 = end_season2 + \"-06-30\"\n",
    "\n",
    "date_list_top_order = create_datelist(start_season2, end_season2)\n",
    "df_team_attributes_top_order = get_average_team_attributes(team_id, date_list_top_order)"
   ]
  },
  {
   "cell_type": "code",
   "execution_count": 55,
   "metadata": {},
   "outputs": [
    {
     "data": {
      "text/plain": [
       "buildUpPlaySpeed          60.0\n",
       "buildUpPlayDribbling      54.0\n",
       "buildUpPlayPassing        60.0\n",
       "chanceCreationPassing     48.0\n",
       "chanceCreationCrossing    73.0\n",
       "chanceCreationShooting    53.0\n",
       "defencePressure           50.0\n",
       "defenceAggression         48.0\n",
       "defenceTeamWidth          62.0\n",
       "dtype: float64"
      ]
     },
     "execution_count": 55,
     "metadata": {},
     "output_type": "execute_result"
    }
   ],
   "source": [
    "# Low order season attributes:\n",
    "low_attributes = df_team_attributes_low_order.mean()\n",
    "low_attributes"
   ]
  },
  {
   "cell_type": "code",
   "execution_count": 56,
   "metadata": {},
   "outputs": [
    {
     "data": {
      "text/plain": [
       "buildUpPlaySpeed          66.0\n",
       "buildUpPlayDribbling      60.0\n",
       "buildUpPlayPassing        45.0\n",
       "chanceCreationPassing     34.0\n",
       "chanceCreationCrossing    34.0\n",
       "chanceCreationShooting    46.0\n",
       "defencePressure           51.0\n",
       "defenceAggression         52.0\n",
       "defenceTeamWidth          61.0\n",
       "dtype: float64"
      ]
     },
     "execution_count": 56,
     "metadata": {},
     "output_type": "execute_result"
    }
   ],
   "source": [
    "# Top order season attributes:\n",
    "top_attributes = df_team_attributes_top_order.mean()\n",
    "top_attributes"
   ]
  },
  {
   "cell_type": "code",
   "execution_count": 57,
   "metadata": {},
   "outputs": [
    {
     "data": {
      "image/png": "[encoded data removed]",
      "text/plain": [
       "<matplotlib.figure.Figure at 0x7fc19c6534e0>"
      ]
     },
     "metadata": {},
     "output_type": "display_data"
    }
   ],
   "source": [
    "# Plot the attributes in different (low&top) seasons:\n",
    "width = 0.35\n",
    "low_label = date_lowest_order\n",
    "top_label = \"2015/2016\"\n",
    "loc_attrs1 = np.arange(1, len(low_attributes) + 1)\n",
    "loc_attrs2 = loc_attrs1 + width\n",
    "plt.figure(figsize = (15, 5))\n",
    "plt.bar(loc_attrs1, low_attributes, width, label = low_label, color='r', alpha=0.7)\n",
    "plt.bar(loc_attrs2, top_attributes, width, label = top_label, color='w')\n",
    "xtick_loc = loc_attrs1 + width / 2\n",
    "xtick_lbl = top_attributes.index\n",
    "plt.xticks(xtick_loc, xtick_lbl, rotation=90)\n",
    "plt.xlabel('Attributes')\n",
    "plt.ylabel('Values')\n",
    "team_name = df_team.query('team_api_id == {}'.format(team_id))['team_long_name'].values[0]\n",
    "country_name = df_country.query('id == {}'.format(country_id))['name'].values[0]\n",
    "title_lbl = team_name + \", \" + country_name \n",
    "plt.title('A Comparison between Attributes of a Team in Low and Top Order Seasons\\n' + title_lbl)\n",
    "plt.legend();"
   ]
  },
  {
   "cell_type": "markdown",
   "metadata": {},
   "source": [
    "<a id='conclusions'></a>\n",
    "## Conclusions\n"
   ]
  },
  {
   "cell_type": "markdown",
   "metadata": {},
   "source": [
    "**Do the overall ratings of a player change over time?**\n",
    ">First, a study shows that there is a positive correlation between the height and weight of each player.<br>\n",
    "\n",
    ">A right-skewed distributions for each of the height and weight of each player which means the data concentrated towards the lower values from an average value.\n",
    "\n",
    ">As an attempt to draw a model tells us about the overall rating depending on age, height, and weight. it is found that the model simulates only 14% from the data. It means that the results of a model cannot be efficient at all.\n",
    "\n",
    ">Lines graph is drawn for the ratings of each 10 players (a size of a random sample) over times/seasons, and each time we choose a sample, it is found that *the overall ratings change over time*.<br>\n",
    "\n",
    "\n",
    "<br>**What teams improved the most over the time period?**\n",
    ">After drawing a plot for each country in the (11 countries) to tell us about the teams won during the period of study<br> from 2008/2009 to 2015/2016 (8 seasons), it is found that there are only two or three teams always achieve the victories in a country.<br>\n",
    "\n",
    "\n",
    "<br>**What team attributes lead to the most victories?**\n",
    ">Liverpool, England is the selected team to study the difference between the attributes values in the loss and win seasons.<br>\n",
    ">It is found that all the attributes values in the loss season were higher than the values in the win season except the Build up play speed attribute.\n",
    ">It is likely to be the build up play speed attribute the key to win. "
   ]
  },
  {
   "cell_type": "code",
   "execution_count": null,
   "metadata": {},
   "outputs": [],
   "source": [
    "from subprocess import call\n",
    "call(['python', '-m', 'nbconvert', 'Investigate_a_Dataset.ipynb'])"
   ]
  }
 ],
 "metadata": {
  "kernelspec": {
   "display_name": "Python 3",
   "language": "python",
   "name": "python3"
  },
  "language_info": {
   "codemirror_mode": {
    "name": "ipython",
    "version": 3
   },
   "file_extension": ".py",
   "mimetype": "text/x-python",
   "name": "python",
   "nbconvert_exporter": "python",
   "pygments_lexer": "ipython3",
   "version": "3.6.3"
  }
 },
 "nbformat": 4,
 "nbformat_minor": 2
}
